{
 "cells": [
  {
   "cell_type": "code",
   "execution_count": null,
   "metadata": {},
   "outputs": [],
   "source": [
    "# 변수 만들기\n",
    "\n",
    "- 파이썬에서는 다음과 같은 형식으로 코드를 입력하여 변수를 만듦\n",
    "  ( x = 10 )\n",
    "- x = 10 이라고 입력을 하면 10이 들어있는 변수 x가 만들어짐\n",
    "- 즉, 변수이름 = 값 형식임\n",
    "- 변수가 생성되는 동시에 값이 할당(저장)됨\n",
    "  변수 이름은 원하는 대로 지으면 되지만 다음과 같은 규칙을 지켜야 함\n",
    "(1.영문문자와 숫자를 사용할 수 있음\n",
    " 2.대소문자를 구분함\n",
    " 3.문자부터 시작해야 하며 숫자부터 시작하면 안됨\n",
    " 4._(밑줄문자)로 시작할 수 있음\n",
    " 5.특수문자(+,-,*,/,@,$,%,&등)는 사용할 수 없음\n",
    " 6.파이썬의 키워드(if,for,while,and,or등)는 사용할 수 없음)"
   ]
  },
  {
   "cell_type": "code",
   "execution_count": 1,
   "metadata": {},
   "outputs": [
    {
     "data": {
      "text/plain": [
       "10"
      ]
     },
     "execution_count": 1,
     "metadata": {},
     "output_type": "execute_result"
    }
   ],
   "source": [
    "x = 10\n",
    "x\n",
    "#변수에는 숫자 뿐만 아니라 문자열도 넣을 수 있음"
   ]
  },
  {
   "cell_type": "code",
   "execution_count": 2,
   "metadata": {},
   "outputs": [
    {
     "data": {
      "text/plain": [
       "'Hello world!'"
      ]
     },
     "execution_count": 2,
     "metadata": {},
     "output_type": "execute_result"
    }
   ],
   "source": [
    "y = \"Hello world!\"\n",
    "y"
   ]
  },
  {
   "cell_type": "code",
   "execution_count": null,
   "metadata": {},
   "outputs": [],
   "source": [
    "# 변수의 자료형 알아내기\n",
    "\n",
    "- 파이썬에서는 변수의 자료형이 중요함\n",
    "- type에 변수를 넣으면 변수(객체)의 자료형이 나옴\n",
    "- 변수의 자료형은 변수에 들어가는 값에 따라 달라짐\n",
    "- 파이썬에서 변수를 사용하다보면 자료형이 맞지 않아 발생하는 문제를 자주 접하게 됨\n",
    "- type으로 자료형을 알아보면 문제를 쉽게 해결할 수 있음"
   ]
  },
  {
   "cell_type": "code",
   "execution_count": 5,
   "metadata": {},
   "outputs": [
    {
     "data": {
      "text/plain": [
       "int"
      ]
     },
     "execution_count": 5,
     "metadata": {},
     "output_type": "execute_result"
    }
   ],
   "source": [
    "type(x)"
   ]
  },
  {
   "cell_type": "code",
   "execution_count": 6,
   "metadata": {},
   "outputs": [
    {
     "data": {
      "text/plain": [
       "str"
      ]
     },
     "execution_count": 6,
     "metadata": {},
     "output_type": "execute_result"
    }
   ],
   "source": [
    "type(y)"
   ]
  },
  {
   "cell_type": "code",
   "execution_count": null,
   "metadata": {},
   "outputs": [],
   "source": [
    "## =기호는 같다는 뜻 아닌가요?\n",
    "- 수학에서는 =(등호)기호는 양 변이 같다는 뜻?\n",
    "- 프로그래밍 언어에서 =는 변수에 값을 할당(assignment)한다는 의미\n",
    "- 수학의 등호와 같은 역할을 하는 연산자는 ==임"
   ]
  },
  {
   "cell_type": "code",
   "execution_count": 9,
   "metadata": {},
   "outputs": [
    {
     "data": {
      "text/plain": [
       "30"
      ]
     },
     "execution_count": 9,
     "metadata": {},
     "output_type": "execute_result"
    }
   ],
   "source": [
    "a = 10\n",
    "b = 20\n",
    "a + b"
   ]
  },
  {
   "cell_type": "code",
   "execution_count": null,
   "metadata": {},
   "outputs": [],
   "source": [
    "# 변수 여러개를 한 번에 만들기\n",
    "- 파이썬에서는 변수 여러 개를 한 번에 만들 수도 있음\n",
    "- 변수이름1, 변수이름2, 변수이름3 = 값1, 값2, 값3 형식으로 변수를 콤마로 구분한 뒤\n",
    "  각 변수에 할당될 값을 지정함\n",
    "- 변수와 값의 개수는 동일하게 맞춰주어야 하며 나열된 순서대로 값이 할당\n",
    "- 변수와 갓의 개수가 맞지 않으면 이렇게 에러가 발생함"
   ]
  },
  {
   "cell_type": "code",
   "execution_count": 14,
   "metadata": {},
   "outputs": [
    {
     "name": "stdout",
     "output_type": "stream",
     "text": [
      "10\n",
      "20\n"
     ]
    },
    {
     "data": {
      "text/plain": [
       "30"
      ]
     },
     "execution_count": 14,
     "metadata": {},
     "output_type": "execute_result"
    }
   ],
   "source": [
    "x, y, z = 10, 20, 30\n",
    "print(x)\n",
    "print(y)\n",
    "z\n",
    "#print를 써주지 않으면 세개의 값이 모두 출력되지 않고 z의 값만 출력이 된다.\n",
    "#주피터 노트북에서만 한줄한줄 실행하기 위해 간단하게 만들었음 그래서 여러개를 쓰면 모든값이 출력안된다\n",
    "#애초에 print를 써야하는 문법이기 때문이다"
   ]
  },
  {
   "cell_type": "code",
   "execution_count": 15,
   "metadata": {},
   "outputs": [
    {
     "ename": "ValueError",
     "evalue": "not enough values to unpack (expected 3, got 2)",
     "output_type": "error",
     "traceback": [
      "\u001b[1;31m---------------------------------------------------------------------------\u001b[0m",
      "\u001b[1;31mValueError\u001b[0m                                Traceback (most recent call last)",
      "\u001b[1;32m<ipython-input-15-34d511726749>\u001b[0m in \u001b[0;36m<module>\u001b[1;34m\u001b[0m\n\u001b[1;32m----> 1\u001b[1;33m \u001b[0mx\u001b[0m\u001b[1;33m,\u001b[0m \u001b[0my\u001b[0m\u001b[1;33m,\u001b[0m \u001b[0mz\u001b[0m \u001b[1;33m=\u001b[0m \u001b[1;36m10\u001b[0m\u001b[1;33m,\u001b[0m \u001b[1;36m20\u001b[0m\u001b[1;33m\u001b[0m\u001b[1;33m\u001b[0m\u001b[0m\n\u001b[0m",
      "\u001b[1;31mValueError\u001b[0m: not enough values to unpack (expected 3, got 2)"
     ]
    }
   ],
   "source": [
    "x, y, z = 10, 20"
   ]
  },
  {
   "cell_type": "code",
   "execution_count": null,
   "metadata": {},
   "outputs": [],
   "source": [
    "# 변수 여러개를 한 번에 만들기 1\n",
    "\n",
    "- 변수 여러개를 만들때 값이 모두 같아도 된다면 다음과 같은 방식도 사용가능\n",
    "- 변수 3개를 만들면서 모두 같은 값을 할당\n",
    "- \"변수 1 = 변수2 = 변수3 = 값\" 형식으로 변수 여러개를 =로 연결하고 마지막에 값을\n",
    "  할당해주면 같은 값을 가진 변수 3개가 만들어짐"
   ]
  },
  {
   "cell_type": "code",
   "execution_count": 17,
   "metadata": {},
   "outputs": [
    {
     "name": "stdout",
     "output_type": "stream",
     "text": [
      "10\n",
      "10\n"
     ]
    },
    {
     "data": {
      "text/plain": [
       "10"
      ]
     },
     "execution_count": 17,
     "metadata": {},
     "output_type": "execute_result"
    }
   ],
   "source": [
    "x = y = z = 10\n",
    "print(x)\n",
    "print(y)\n",
    "z"
   ]
  },
  {
   "cell_type": "code",
   "execution_count": null,
   "metadata": {},
   "outputs": [],
   "source": [
    "# 변수 여러개를 한 번에 만들기 2\n",
    " - 두 변수의 값을 바꾸려면 어떻게 해야 할까?\n",
    "    -> 변수를 할당할 때 서로 자리를 바꿔주면 됨\n",
    "       -> x는 20, y는 10이 나왔음\n",
    "=> 변수1, 변수2 = 변수2, 변수1 형식으로 두 변수의 값을 바꿀 수 있음"
   ]
  },
  {
   "cell_type": "code",
   "execution_count": 18,
   "metadata": {},
   "outputs": [
    {
     "name": "stdout",
     "output_type": "stream",
     "text": [
      "20\n"
     ]
    },
    {
     "data": {
      "text/plain": [
       "10"
      ]
     },
     "execution_count": 18,
     "metadata": {},
     "output_type": "execute_result"
    }
   ],
   "source": [
    "x , y = 10, 20\n",
    "x, y = y, x\n",
    "print(x)\n",
    "y"
   ]
  },
  {
   "cell_type": "code",
   "execution_count": null,
   "metadata": {},
   "outputs": [],
   "source": [
    "# 변수 삭제하기\n",
    " \n",
    " - 변수 삭제는 del을 사용\n",
    " - 변수 x를 삭제하여 변수가 없어졌으므로 x가 정의되지 않았다는 메시지와 함께\n",
    "   NameError 발생함\n",
    " - 지금은 변수 삭제가 큰 의미가 없지만 나중에 리스트를 사용할때 del이 유용하게 쓰임"
   ]
  },
  {
   "cell_type": "code",
   "execution_count": 19,
   "metadata": {},
   "outputs": [
    {
     "ename": "NameError",
     "evalue": "name 'x' is not defined",
     "output_type": "error",
     "traceback": [
      "\u001b[1;31m---------------------------------------------------------------------------\u001b[0m",
      "\u001b[1;31mNameError\u001b[0m                                 Traceback (most recent call last)",
      "\u001b[1;32m<ipython-input-19-3dde88e24a37>\u001b[0m in \u001b[0;36m<module>\u001b[1;34m\u001b[0m\n\u001b[0;32m      1\u001b[0m \u001b[0mx\u001b[0m \u001b[1;33m=\u001b[0m \u001b[1;36m10\u001b[0m\u001b[1;33m\u001b[0m\u001b[1;33m\u001b[0m\u001b[0m\n\u001b[0;32m      2\u001b[0m \u001b[1;32mdel\u001b[0m \u001b[0mx\u001b[0m\u001b[1;33m\u001b[0m\u001b[1;33m\u001b[0m\u001b[0m\n\u001b[1;32m----> 3\u001b[1;33m \u001b[0mx\u001b[0m\u001b[1;33m\u001b[0m\u001b[1;33m\u001b[0m\u001b[0m\n\u001b[0m",
      "\u001b[1;31mNameError\u001b[0m: name 'x' is not defined"
     ]
    }
   ],
   "source": [
    "x = 10\n",
    "del x\n",
    "x"
   ]
  },
  {
   "cell_type": "code",
   "execution_count": 20,
   "metadata": {},
   "outputs": [],
   "source": [
    "# 빈 변수 만들기\n",
    "\n",
    " - 변수를 만들때 x = 10과 같이 할당할 값을 지정해줌\n",
    " - 값이 들어있지 않는 변수는 만들 수 없을까?\n",
    "   -> 값이 들어있지 않은 빈 변수를 만들 때는 None을 할당해주면 됨 \n",
    "    -> print로 변수 x의 값을 출력해보면 None이 나옴\n",
    "     -> x의 값을 그냥 출력하면 아무것도 출력되지 않음\n",
    " - 파이썬에서 None은 아무것도 없는 상태를 나타내는 자료형\n",
    " - 보통 다른 언어에서는 널(null)이라고 표현함"
   ]
  },
  {
   "cell_type": "code",
   "execution_count": 23,
   "metadata": {},
   "outputs": [
    {
     "name": "stdout",
     "output_type": "stream",
     "text": [
      "None\n"
     ]
    }
   ],
   "source": [
    "x = None\n",
    "print(x)\n",
    "x"
   ]
  },
  {
   "cell_type": "code",
   "execution_count": null,
   "metadata": {},
   "outputs": [],
   "source": [
    "# 정적 타이핑\n",
    "\n",
    "- C, Java 등의 컴파일러 방식의 언어에서 사용함\n",
    "- 저장할 상자(변수)를 먼저 준비(선언)한 후에 내용(데이터)을 저장함\n",
    "- 컴파일러는 상자의 크기에 맞게 메모리 공간(바이트)을 배정함\n",
    "- 선언된 변수는 사용이 끝날 때까지 계속 같은 메모리 주소를 갖게 됨\n",
    "- 상자에 맞지 않는 내용(혹은 크기)을 저장하려 할 경우는 에러 발생\n",
    "- 잘못된 코드를 사전에 예방할 수 있어 안정도가 높음\n",
    "- 변수 사용시 먼저 선언을 해야 해서 프로그래밍이 번거로움\n",
    "==============================================================\n",
    "- 변수의 이름이 다른 경우, 내용은 같아도 다른 메모리 주소를 갖게 됨\n",
    "- 한 상자(a)에 지우개가 있고, 다른 상자(b)에는 연필이 있을 경우, 내용을\n",
    "  서로 바꾸기(swap)위해서는 임시로 보관할 상자가 하나(c) 더 있어야 함\n",
    "- 두 변수의 값을 바꾸기 위해서는, 먼저 한 변수 값을 임시로 저장한 후 다시\n",
    "  그 값을 가져와서 저장해야 함\n",
    "- 왼쪽 프로그램은 실행 후 a = 20, b = 20으로 모두 20 값을 갖게 됨\n",
    "- 오른쪽 프로그램 실행 후 a = 20, b = 10으로 변경된 값이 됨"
   ]
  },
  {
   "cell_type": "code",
   "execution_count": null,
   "metadata": {},
   "outputs": [],
   "source": [
    "# 왼쪽\n",
    "int a,b;\n",
    "a = 10;\n",
    "b = 20;\n",
    "// swap\n",
    "a = b;\n",
    "b = a;"
   ]
  },
  {
   "cell_type": "code",
   "execution_count": null,
   "metadata": {},
   "outputs": [],
   "source": [
    "# 오른쪽\n",
    "int a,b,c;\n",
    "a = 10;\n",
    "b = 20;\n",
    "//swap\n",
    "c = a;\n",
    "a = b;\n",
    "b = c;"
   ]
  },
  {
   "cell_type": "code",
   "execution_count": null,
   "metadata": {},
   "outputs": [],
   "source": [
    "# 동적 타이핑\n",
    "\n",
    "- Python, R, Javascript 등의 스크립트 방식의 언어에서 사용\n",
    "- 선언할 필요없이 임의 타입의 데이터를 변수에 저장함\n",
    "- 변수에 데이터를 저장, 변경하는데 제한이 없음\n",
    "- 상자 보다는 상자에 붙인 태그라고 생각할 수 있음\n",
    "- 먼저 데이터를 비어 있는 메모리 공간에 저장한 후 태그(변수명)를 붙임\n",
    "- 실행시 변수의 타입에 따라 연산에러가 발생할 수 있어 안정도가 떨어짐\n",
    "- 선언을 할 필요가 없어 프로그래밍이 편하고 간결해짐\n",
    "=================================================================\n",
    "- a 내용이 변경되는 경우, 새로운 내용을 저장하고 그 태그를 a라고 함\n",
    "- 예, a=123 실행 후에 a = 'Hello'를 실행하는 경우\n",
    " ->새로운 공간(주소)에 'Hello'를 저장한 후 그 태그를 a 라고 함\n",
    "  ->앞서 123 저장됐던 공간은 더 이상 사용할 수 없게 됨(Garbage)\n",
    "- Garbage가 많아지면 메모리 부족이 발생하여 주기적으로 메모리를 복구하는\n",
    "  처리(Garbage Collection, gc)를 해야 함\n",
    "- gc는 프로그램에서 중요한 부분으로 파이썬에서는 자동으로 처리됨\n",
    "- id(a)는 a변수의 주소를 보여줌(c언어의 포인터와 유사, 중요하지 않음)"
   ]
  },
  {
   "cell_type": "code",
   "execution_count": 30,
   "metadata": {},
   "outputs": [
    {
     "data": {
      "text/plain": [
       "140726873568864"
      ]
     },
     "execution_count": 30,
     "metadata": {},
     "output_type": "execute_result"
    }
   ],
   "source": [
    "a = 123\n",
    "id(a)"
   ]
  },
  {
   "cell_type": "code",
   "execution_count": 31,
   "metadata": {},
   "outputs": [
    {
     "data": {
      "text/plain": [
       "2796153414064"
      ]
     },
     "execution_count": 31,
     "metadata": {},
     "output_type": "execute_result"
    }
   ],
   "source": [
    "a = \"Hello\"\n",
    "id(a)"
   ]
  },
  {
   "cell_type": "code",
   "execution_count": 36,
   "metadata": {},
   "outputs": [
    {
     "data": {
      "text/plain": [
       "140726873565248"
      ]
     },
     "execution_count": 36,
     "metadata": {},
     "output_type": "execute_result"
    }
   ],
   "source": [
    "a = 10\n",
    "b = 20\n",
    "id(a)"
   ]
  },
  {
   "cell_type": "code",
   "execution_count": 34,
   "metadata": {},
   "outputs": [
    {
     "data": {
      "text/plain": [
       "140726873565568"
      ]
     },
     "execution_count": 34,
     "metadata": {},
     "output_type": "execute_result"
    }
   ],
   "source": [
    "id(b)"
   ]
  },
  {
   "cell_type": "code",
   "execution_count": 37,
   "metadata": {},
   "outputs": [
    {
     "data": {
      "text/plain": [
       "20"
      ]
     },
     "execution_count": 37,
     "metadata": {},
     "output_type": "execute_result"
    }
   ],
   "source": [
    "a,b = b,a\n",
    "a"
   ]
  },
  {
   "cell_type": "code",
   "execution_count": 38,
   "metadata": {},
   "outputs": [
    {
     "data": {
      "text/plain": [
       "10"
      ]
     },
     "execution_count": 38,
     "metadata": {},
     "output_type": "execute_result"
    }
   ],
   "source": [
    "b"
   ]
  },
  {
   "cell_type": "code",
   "execution_count": 39,
   "metadata": {},
   "outputs": [
    {
     "data": {
      "text/plain": [
       "140726873565568"
      ]
     },
     "execution_count": 39,
     "metadata": {},
     "output_type": "execute_result"
    }
   ],
   "source": [
    "id(a)"
   ]
  },
  {
   "cell_type": "code",
   "execution_count": 40,
   "metadata": {},
   "outputs": [
    {
     "data": {
      "text/plain": [
       "140726873565248"
      ]
     },
     "execution_count": 40,
     "metadata": {},
     "output_type": "execute_result"
    }
   ],
   "source": [
    "id(b)"
   ]
  },
  {
   "cell_type": "code",
   "execution_count": null,
   "metadata": {},
   "outputs": [],
   "source": [
    "# 변수로 계산하기\n",
    "\n",
    "- 변수를 활용하여 계산을 해보자\n",
    "- 변수 a,b에 숫자를 할당한 뒤에 a와 b의 값을 더해서 변수 c에 할당함\n",
    "- 변수는 변수끼리 계산할 수 있고, 계산 결과를 다른 변수에 할당할 수 있음"
   ]
  },
  {
   "cell_type": "code",
   "execution_count": 41,
   "metadata": {},
   "outputs": [
    {
     "data": {
      "text/plain": [
       "30"
      ]
     },
     "execution_count": 41,
     "metadata": {},
     "output_type": "execute_result"
    }
   ],
   "source": [
    "a = 10\n",
    "b = 20\n",
    "c = a+b\n",
    "c"
   ]
  },
  {
   "cell_type": "code",
   "execution_count": null,
   "metadata": {},
   "outputs": [],
   "source": [
    "# 산술 연산 후 할당 연산자 사용하기1\n",
    "\n",
    "- 변수 a의 값을 20 증가시키려면 어떻게 해야할까?\n",
    "- a + 20처럼 20을 더하면 30이 나오지만 a의 값을 다시 출력해보면 10이 나옴"
   ]
  },
  {
   "cell_type": "code",
   "execution_count": 42,
   "metadata": {},
   "outputs": [
    {
     "data": {
      "text/plain": [
       "30"
      ]
     },
     "execution_count": 42,
     "metadata": {},
     "output_type": "execute_result"
    }
   ],
   "source": [
    "a = 10\n",
    "a + 20"
   ]
  },
  {
   "cell_type": "code",
   "execution_count": 43,
   "metadata": {},
   "outputs": [
    {
     "data": {
      "text/plain": [
       "10"
      ]
     },
     "execution_count": 43,
     "metadata": {},
     "output_type": "execute_result"
    }
   ],
   "source": [
    "a"
   ]
  },
  {
   "cell_type": "code",
   "execution_count": null,
   "metadata": {},
   "outputs": [],
   "source": [
    "- a + 20은 a에 20을 더하기만 할 뿐 계산 결과를 유지하지 않음\n",
    "- 변수 한 개에서 값의 변화를 계속 유지하려면 계산 결과를 다시 변수에 저장"
   ]
  },
  {
   "cell_type": "code",
   "execution_count": 44,
   "metadata": {},
   "outputs": [
    {
     "data": {
      "text/plain": [
       "30"
      ]
     },
     "execution_count": 44,
     "metadata": {},
     "output_type": "execute_result"
    }
   ],
   "source": [
    "a = 10\n",
    "a = a + 20\n",
    "a"
   ]
  },
  {
   "cell_type": "code",
   "execution_count": null,
   "metadata": {},
   "outputs": [],
   "source": [
    "# 산술 연산 후 할당 연산자 사용하기2\n",
    "\n",
    "- a = a + 20과 같이 a에 20을 더한 값을 다시 a에 할당해주면 계산결과가 유지됨\n",
    "- 파이썬에서는 변수를 두번 입력하지 않도록 산술 연산 후 할당 연산자를 제공"
   ]
  },
  {
   "cell_type": "code",
   "execution_count": 45,
   "metadata": {},
   "outputs": [
    {
     "data": {
      "text/plain": [
       "30"
      ]
     },
     "execution_count": 45,
     "metadata": {},
     "output_type": "execute_result"
    }
   ],
   "source": [
    "a = 10\n",
    "a += 20\n",
    "a"
   ]
  },
  {
   "cell_type": "code",
   "execution_count": null,
   "metadata": {},
   "outputs": [],
   "source": [
    "- a에는 10이 들어있고 a += 20을 수행하면 a에는 10과 20을 더한 결과인 30이 저장됨\n",
    "- +=처럼 산술연산자 앞에 =(할당연산자)를 붙이면 연산결과를 변수에 저장\n",
    "(+ =처럼 두 연산자를 공백으로 띄우면 안됨)\n",
    "- 뺄셈(-=), 곱셈(*=), 나눗셈(/=, //=), 나머지(%=)도 같은 방식임\n",
    "- 똑같이 연산(-,*,/,//) 후 할당(=)한다는 뜻"
   ]
  },
  {
   "cell_type": "code",
   "execution_count": 46,
   "metadata": {},
   "outputs": [
    {
     "data": {
      "text/plain": [
       "30"
      ]
     },
     "execution_count": 46,
     "metadata": {},
     "output_type": "execute_result"
    }
   ],
   "source": [
    "a = 10\n",
    "a += 20\n",
    "a"
   ]
  },
  {
   "cell_type": "code",
   "execution_count": null,
   "metadata": {},
   "outputs": [],
   "source": [
    "# 산술 연산 후 할당 연산자 사용하기3\n",
    "\n",
    "- 산술 연산 후 할당 연산자를 사용할 때는 주의할 점이 있음\n",
    "- 만들지 않은 변수 d에 10을 더한 후 다시 할당하면 에러가 발생"
   ]
  },
  {
   "cell_type": "code",
   "execution_count": 47,
   "metadata": {},
   "outputs": [
    {
     "ename": "NameError",
     "evalue": "name 'd' is not defined",
     "output_type": "error",
     "traceback": [
      "\u001b[1;31m---------------------------------------------------------------------------\u001b[0m",
      "\u001b[1;31mNameError\u001b[0m                                 Traceback (most recent call last)",
      "\u001b[1;32m<ipython-input-47-2dfda0c9ba1e>\u001b[0m in \u001b[0;36m<module>\u001b[1;34m\u001b[0m\n\u001b[1;32m----> 1\u001b[1;33m \u001b[0md\u001b[0m \u001b[1;33m+=\u001b[0m \u001b[1;36m10\u001b[0m \u001b[1;31m#d는 만들지 않은 변수\u001b[0m\u001b[1;33m\u001b[0m\u001b[1;33m\u001b[0m\u001b[0m\n\u001b[0m",
      "\u001b[1;31mNameError\u001b[0m: name 'd' is not defined"
     ]
    }
   ],
   "source": [
    "d += 10 #d는 만들지 않은 변수"
   ]
  },
  {
   "cell_type": "code",
   "execution_count": null,
   "metadata": {},
   "outputs": [],
   "source": [
    "- 계산 결과를 d에 할당하기 전에 d와 10을 더해야 하는데 d라는 변수가 없어서\n",
    "  덧셈이 안되기 때문임\n",
    "- 연산 후 할당을 하려면 값이 들어있는 변수를 사용해야 함"
   ]
  },
  {
   "cell_type": "code",
   "execution_count": null,
   "metadata": {},
   "outputs": [],
   "source": [
    "# 부호 붙이기1\n",
    "\n",
    "- 계산을 하다 보면 부호를 붙여야 하는 경우도 생김\n",
    "- 값이나 변수 앞에 양수, 음수 부호를 붙이면 됨"
   ]
  },
  {
   "cell_type": "code",
   "execution_count": 48,
   "metadata": {},
   "outputs": [
    {
     "data": {
      "text/plain": [
       "-10"
      ]
     },
     "execution_count": 48,
     "metadata": {},
     "output_type": "execute_result"
    }
   ],
   "source": [
    "x = -10\n",
    "+x"
   ]
  },
  {
   "cell_type": "code",
   "execution_count": 49,
   "metadata": {},
   "outputs": [
    {
     "data": {
      "text/plain": [
       "10"
      ]
     },
     "execution_count": 49,
     "metadata": {},
     "output_type": "execute_result"
    }
   ],
   "source": [
    "-x"
   ]
  },
  {
   "cell_type": "code",
   "execution_count": null,
   "metadata": {},
   "outputs": [],
   "source": [
    "# 부호 붙이기2\n",
    "\n",
    "- 양수, 음수 부호 붙이기는 수학 시간에 배운 내용과 같음\n",
    "- -10에 +부호를 붙이면 부호의 변화가 없고, -10에 -부호를 붙이면 양수 10이 됨"
   ]
  },
  {
   "cell_type": "code",
   "execution_count": null,
   "metadata": {},
   "outputs": [],
   "source": [
    "# 입력 값을 변수에 저장하기\n",
    "\n",
    "- 지금까지 변수를 만들 떄, 10, \"Hello, world!\"등의 값을 직접 할당\n",
    "- 이렇게 하면 고정된 값만 사용할 수 있음\n",
    "- 매번 다른 값을 변수에 할당하려면 어떻게 해야 할까? => input함수 사용하기!!"
   ]
  },
  {
   "cell_type": "code",
   "execution_count": null,
   "metadata": {},
   "outputs": [],
   "source": [
    "# input 함수 사용하기\n",
    "\n",
    "- 이때는 input 함수를 사용하면 됨\n",
    "- >>>에 input()을 입력한 뒤 엔터 키를 누르면 다음 줄로 넘어감\n",
    "- 이 상태에서 Hello, world!를 입력한 뒤 엔터 키를 누름"
   ]
  },
  {
   "cell_type": "code",
   "execution_count": 50,
   "metadata": {},
   "outputs": [
    {
     "name": "stdout",
     "output_type": "stream",
     "text": [
      "Hello, world!\n"
     ]
    },
    {
     "data": {
      "text/plain": [
       "'Hello, world!'"
      ]
     },
     "execution_count": 50,
     "metadata": {},
     "output_type": "execute_result"
    }
   ],
   "source": [
    "input()"
   ]
  },
  {
   "cell_type": "code",
   "execution_count": null,
   "metadata": {},
   "outputs": [],
   "source": [
    "- 입력한 문자열이 그대로 출력됨\n",
    "- input함수는 사용자가 입력한 값을 가져오는 함수"
   ]
  },
  {
   "cell_type": "code",
   "execution_count": null,
   "metadata": {},
   "outputs": [],
   "source": [
    "# input 함수의 결과를 변수에 할당하기 (*변수 = input()*)\n",
    "\n",
    "- input 함수의 결과를 변수에 할당해보자\n",
    "- input 함수의 결과를 변수x에 할당함\n",
    "- Hello, world!를 입력한 뒤 엔터키를 누름"
   ]
  },
  {
   "cell_type": "code",
   "execution_count": 51,
   "metadata": {},
   "outputs": [
    {
     "name": "stdout",
     "output_type": "stream",
     "text": [
      "Hello, world!\n"
     ]
    }
   ],
   "source": [
    "x = input()"
   ]
  },
  {
   "cell_type": "code",
   "execution_count": null,
   "metadata": {},
   "outputs": [],
   "source": [
    "- 변수 x에 입력한 문자열이 저장됨\n",
    "- x의 값을 출력해보면 방금 입력한 'Hello, world!'가 나옴"
   ]
  },
  {
   "cell_type": "code",
   "execution_count": 52,
   "metadata": {},
   "outputs": [
    {
     "data": {
      "text/plain": [
       "'Hello, world!'"
      ]
     },
     "execution_count": 52,
     "metadata": {},
     "output_type": "execute_result"
    }
   ],
   "source": [
    "x"
   ]
  },
  {
   "cell_type": "code",
   "execution_count": null,
   "metadata": {},
   "outputs": [],
   "source": [
    "- 여기서 한 가지 불편한 점은 input 함수가 실행된 다음에는 아무내용이 없어서\n",
    "  입력을 받는 상태인지 출력이 없는 상태인지 알 수가 없음"
   ]
  }
 ],
 "metadata": {
  "kernelspec": {
   "display_name": "Python 3",
   "language": "python",
   "name": "python3"
  },
  "language_info": {
   "codemirror_mode": {
    "name": "ipython",
    "version": 3
   },
   "file_extension": ".py",
   "mimetype": "text/x-python",
   "name": "python",
   "nbconvert_exporter": "python",
   "pygments_lexer": "ipython3",
   "version": "3.8.5"
  }
 },
 "nbformat": 4,
 "nbformat_minor": 4
}
