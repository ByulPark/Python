{
 "cells": [
  {
   "cell_type": "code",
   "execution_count": null,
   "metadata": {},
   "outputs": [],
   "source": [
    "# input 함수의 결과를 변수에 할당하기\n",
    "\n",
    "- input의 괄호 안에 문자열을 지정해주면 됨\n",
    "  (*변수 = input('문자열')*)"
   ]
  },
  {
   "cell_type": "code",
   "execution_count": 1,
   "metadata": {},
   "outputs": [
    {
     "name": "stdout",
     "output_type": "stream",
     "text": [
      "문자열을 입력하세요 : Hello, world!\n"
     ]
    }
   ],
   "source": [
    "x = input(\"문자열을 입력하세요 : \")"
   ]
  },
  {
   "cell_type": "code",
   "execution_count": 2,
   "metadata": {},
   "outputs": [
    {
     "data": {
      "text/plain": [
       "'Hello, world!'"
      ]
     },
     "execution_count": 2,
     "metadata": {},
     "output_type": "execute_result"
    }
   ],
   "source": [
    "x"
   ]
  },
  {
   "cell_type": "code",
   "execution_count": null,
   "metadata": {},
   "outputs": [],
   "source": [
    "- 실행을 해보면 '문자열을 입력하세요 : '처럼 안내문구가 먼저 나옴\n",
    "- 문자열을 입력한 뒤 엔터키를 누르면 입력한 그대로 출력됨\n",
    "- 문자열은 스크립트 파일 사용자에게 입력받는 값의 용도를 미리 알려줄 때 사용\n",
    "- 다른 말로는 프롬프트(prompt)라고도 부름"
   ]
  },
  {
   "cell_type": "code",
   "execution_count": null,
   "metadata": {},
   "outputs": [],
   "source": [
    "# 두 숫자의 합 구하기\n",
    "\n",
    "- 조금 응용해서 숫자 두 개를 입력 받은 뒤에 두 숫자의 합을 구해보자\n",
    "- IDLE의 소스 코드 편집 창에 입력"
   ]
  },
  {
   "cell_type": "code",
   "execution_count": 4,
   "metadata": {},
   "outputs": [
    {
     "name": "stdout",
     "output_type": "stream",
     "text": [
      "첫 번째 숫자를 입력하세요: 10\n",
      "두 번째 숫자를 입력하세요: 20\n",
      "1020\n"
     ]
    }
   ],
   "source": [
    "a = input(\"첫 번째 숫자를 입력하세요: \")\n",
    "b = input(\"두 번째 숫자를 입력하세요: \")\n",
    "\n",
    "print(a + b)"
   ]
  },
  {
   "cell_type": "code",
   "execution_count": null,
   "metadata": {},
   "outputs": [],
   "source": [
    "- 소스 코드를 실행하면 '첫 번째 숫자를 입력하세요:'가 출력됨\n",
    "- 10을 입력하고 엔터 키를 누름\n",
    "- '두 번째 숫자를 입력하세요: '가 출력되면 20을 입력하고 엔터키를 누름\n",
    "- 10 + 20의 결과는 30이 나와야 하는데 1020이 나옴\n",
    "- 이런 결과는 input에서 입력 받은 값은 항상 문자열 형태이기 때문임\n",
    "- 10과 20은 겉보기에는 숫자이지만 실제로는 문자열이므로 10과 20을 +로 연결해 1020이 나옴\n",
    "- input의 결과를 변수에 저장한 뒤 type을 사용해보면 문자열(str)이라는 것을 알수있음"
   ]
  },
  {
   "cell_type": "code",
   "execution_count": 6,
   "metadata": {},
   "outputs": [
    {
     "name": "stdout",
     "output_type": "stream",
     "text": [
      "10\n"
     ]
    },
    {
     "data": {
      "text/plain": [
       "str"
      ]
     },
     "execution_count": 6,
     "metadata": {},
     "output_type": "execute_result"
    }
   ],
   "source": [
    "a = input()\n",
    "type(a)"
   ]
  },
  {
   "cell_type": "code",
   "execution_count": null,
   "metadata": {},
   "outputs": [],
   "source": [
    "# 입력 값을 정수로 변환하기\n",
    "\n",
    "- 10 + 20의 결과가 30이 나오게 하려면 input에서 입력받은 문자열을 숫자(정수)로 만들어주어야 함\n",
    "* 변수 = int(input())\n",
    "* 변수 = int(input(\"문자열\"))"
   ]
  },
  {
   "cell_type": "code",
   "execution_count": 7,
   "metadata": {},
   "outputs": [
    {
     "name": "stdout",
     "output_type": "stream",
     "text": [
      "첫 번째 숫자를 입력하세요 : 5\n",
      "두 번째 숫자를 입력하세요 : 9\n",
      "14\n"
     ]
    }
   ],
   "source": [
    "a = int(input(\"첫 번째 숫자를 입력하세요 : \")) #int를 사용하여 입력값을 정수로 변환\n",
    "b = int(input(\"두 번째 숫자를 입력하세요 : \")) #int를 사용하여 입력값을 정수로 변환\n",
    "\n",
    "print(a+b)"
   ]
  },
  {
   "cell_type": "code",
   "execution_count": null,
   "metadata": {},
   "outputs": [],
   "source": [
    "- 입력 받은 값을 숫자(정수)로 만들려면 int에 input()을 넣음\n",
    "- int는 정수로 된 문자열도 정수로 만들 수 있으므로 문자열 '10'은 정수 10으로 바뀜\n",
    "- 3.5와 2.1처럼 실수를 더하려면 int대신 float에 input()을 넣음\n",
    "- 각자 소스 코드를 수정하여 실수의 합도 구해보자"
   ]
  },
  {
   "cell_type": "code",
   "execution_count": null,
   "metadata": {},
   "outputs": [],
   "source": [
    "# 입력 값을 변수 두 개에 저장하기\n",
    "\n",
    "- input 한 번에 값을 여러 개 입력 받으려면 어떻게 해야할까?\n",
    "- input에서 split을 사용한 변수 여러 개에 저장하면 됨(각 변수는 콤마로 구분해줌)\n",
    "* 변수1, 변수2 = input().split()\n",
    "* 변수1, 변수2 = input().split('기준문자열')\n",
    "* 변수1, 변수2 = input('문자열').split()\n",
    "* 변수1, 변수2 = input('문자열').split('기준문자열')"
   ]
  },
  {
   "cell_type": "code",
   "execution_count": 9,
   "metadata": {},
   "outputs": [
    {
     "name": "stdout",
     "output_type": "stream",
     "text": [
      "문자열 두 개를 입력하세요 : 자대여신 지은\n",
      "자대여신\n",
      "지은\n"
     ]
    }
   ],
   "source": [
    "a, b = input(\"문자열 두 개를 입력하세요 : \").split() # 입력받은 값을 공백을 기준으로 분리\n",
    "\n",
    "print(a)\n",
    "print(b)"
   ]
  },
  {
   "cell_type": "code",
   "execution_count": null,
   "metadata": {},
   "outputs": [],
   "source": [
    "# 입력 값을 변수 두 개에 저장하기\n",
    "\n",
    "- 소스 코드를 실행하면 '문자열 두 개를 입력하세요 : '가 출력됨\n",
    "- Hello Python을 입력하고 엔터키를 누름"
   ]
  },
  {
   "cell_type": "code",
   "execution_count": 12,
   "metadata": {},
   "outputs": [
    {
     "name": "stdout",
     "output_type": "stream",
     "text": [
      "문자열 두 개를 입력하세요 : Hello Python\n",
      "Hello\n",
      "Python\n"
     ]
    }
   ],
   "source": [
    "a,b = input('문자열 두 개를 입력하세요 : ').split()\n",
    "print(a)\n",
    "print(b)"
   ]
  },
  {
   "cell_type": "code",
   "execution_count": null,
   "metadata": {},
   "outputs": [],
   "source": [
    "- input에 split을 사용하면 입력받은 값을 공백을 기준으로 분리하여 변수에 차례대로 저장함\n",
    "(split은 분리하다, 나누다라는 뜻)\n",
    "- 문자열 'Hello Python'을 공백을 기준으로 분리하여 'Hello'는 첫 번째 변수 a에 'Python'은 두번째 변수 b에 저장함"
   ]
  },
  {
   "cell_type": "code",
   "execution_count": null,
   "metadata": {},
   "outputs": [],
   "source": [
    "# 두 숫자의 합 구하기\n",
    "\n",
    "- 숫자 두 개를 입력 받아서 두 숫자의 합을 구해보자"
   ]
  },
  {
   "cell_type": "code",
   "execution_count": 14,
   "metadata": {},
   "outputs": [
    {
     "name": "stdout",
     "output_type": "stream",
     "text": [
      "숫자 두 개를 입력하세요 : 10 20\n",
      "1020\n"
     ]
    }
   ],
   "source": [
    "a, b = input('숫자 두 개를 입력하세요 : ').split() #입력받은 값을 공백을 기준으로 분리\n",
    "\n",
    "print(a+b)"
   ]
  },
  {
   "cell_type": "code",
   "execution_count": null,
   "metadata": {},
   "outputs": [],
   "source": [
    "- 30이 나와야 하는데 1020이 나옴\n",
    "- input에서 입력 받은 값은 문자열이고, 이 문자열은 split으로 분리해도 문자열이기 때문임\n",
    "- 문자열 '10 20'을 공백을 기준으로 분리하여 a에는 10, b에는 20이 저장되므로 +로 연결하면 1020이 나옴"
   ]
  },
  {
   "cell_type": "code",
   "execution_count": null,
   "metadata": {},
   "outputs": [],
   "source": [
    "a,b = input('숫자 두개를 입력하세요 : ').split()"
   ]
  },
  {
   "cell_type": "code",
   "execution_count": null,
   "metadata": {},
   "outputs": [],
   "source": [
    "# 입력 값을 정수로 변환하기\n",
    "\n",
    "- 10+20의 결과가 30이 나오게 하려면 변수 a와 b를 정수로 변환해주어야 함"
   ]
  },
  {
   "cell_type": "code",
   "execution_count": 15,
   "metadata": {},
   "outputs": [
    {
     "name": "stdout",
     "output_type": "stream",
     "text": [
      "숫자 두 개를 입력하세요 : 10 20\n",
      "30\n"
     ]
    }
   ],
   "source": [
    "a, b = input('숫자 두 개를 입력하세요 : ').split() # 입력받은 값을 공백을 기준으로 분리\n",
    "a = int(a) # 변수를 정수로 변환한 뒤 다시 저장\n",
    "b = int(b) # 변수를 정수로 변환한 뒤 다시 저장\n",
    "\n",
    "print(a+b)"
   ]
  },
  {
   "cell_type": "code",
   "execution_count": null,
   "metadata": {},
   "outputs": [],
   "source": [
    "- a = int(a)와 같이 int에 변수를 넣은 뒤 다시 변수에 저장해주면 변수가 정수 자료형으로 변환됨\n",
    "- int(a)처럼 int만 사용하고 결과를 변수에 저장하지 않으면 정수로 변환되지 않음\n",
    "- print안에서 int로 변수를 변환하고 바로 더해도 상관없음"
   ]
  },
  {
   "cell_type": "code",
   "execution_count": null,
   "metadata": {},
   "outputs": [],
   "source": [
    "print(int(a) + int(b))"
   ]
  },
  {
   "cell_type": "code",
   "execution_count": null,
   "metadata": {},
   "outputs": [],
   "source": [
    "# map을 사용하여 정수로 변환하기 => map은 두개 이상의 변수를 한꺼번에 바꿔줌\n",
    "\n",
    "- map에 int와 input().split()을 넣으면 split의 결과를 모두 int로 변환해줌\n",
    "  (실수로 변환할 때는 int 대신 float를 넣음)\n",
    "* 변수1, 변수2 = map(int, input().split())\n",
    "* 변수1, 변수2 = map(int, input().split('기준문자열'))\n",
    "* 변수1, 변수2 = map(int, input('문자열').split())\n",
    "* 변수1, 변수2 = map(int, input('문자열').split('기준문자열'))"
   ]
  },
  {
   "cell_type": "code",
   "execution_count": 17,
   "metadata": {},
   "outputs": [
    {
     "name": "stdout",
     "output_type": "stream",
     "text": [
      "숫자 두 개를 입력하세요: 10 20\n",
      "30\n"
     ]
    }
   ],
   "source": [
    "a, b = map(int, input(\"숫자 두 개를 입력하세요: \").split())\n",
    "\n",
    "print(a + b)"
   ]
  },
  {
   "cell_type": "code",
   "execution_count": null,
   "metadata": {},
   "outputs": [],
   "source": [
    "- input().split()을 사용할 때 map을 사용하면 코드를 짧게 줄일 수 있음"
   ]
  },
  {
   "cell_type": "code",
   "execution_count": null,
   "metadata": {},
   "outputs": [],
   "source": [
    "# 입력 받은 값을 콤마를 기준으로 분리하기\n",
    "\n",
    "- split에 기준 문자열을 지정하여 공백이 아닌 다른 문자로 분리해보자"
   ]
  },
  {
   "cell_type": "code",
   "execution_count": 18,
   "metadata": {},
   "outputs": [
    {
     "name": "stdout",
     "output_type": "stream",
     "text": [
      "숫자 두 개를 입력하세요 : 10,20\n",
      "30\n"
     ]
    }
   ],
   "source": [
    "a, b = map(int,input(\"숫자 두 개를 입력하세요 : \").split(\",\")) #입력받은 값을 콤마를 기준으로 분리\n",
    "\n",
    "print(a + b)"
   ]
  },
  {
   "cell_type": "code",
   "execution_count": null,
   "metadata": {},
   "outputs": [],
   "source": [
    "- split(\",\")과 같이 분리할 기준 문자열을 콤마로 지정하였으므로 '10,20'에서 10은 a에 저장, 20은 b에 저장\n",
    "- 변수는 값이나 계산 결과를 저장할 때 사용한다는 점, 변수를 만드는 방법, 변수 이름을 짓는 방법만 기억하면 됨\n",
    "- input과 split의 결과가 문자열이라는 점이 중요\n",
    "- 숫자 계산을 한다면 int, float를 사용해서 결과를 숫자로 변환해주어야 한다는 점\n",
    "- split의 결과를 모두 int, float로 변환할 때는 map을 사용하면 편리함"
   ]
  },
  {
   "cell_type": "code",
   "execution_count": null,
   "metadata": {},
   "outputs": [],
   "source": [
    "# 값을 여러 개 출력하기\n",
    "\n",
    "- print에는 변수나 값 여러 개를 ,(콤마)로 구분하여 넣을 수 있음\n",
    "* print(값1, 값2, 값3)\n",
    "* print(변수1, 변수2, 변수3)"
   ]
  },
  {
   "cell_type": "code",
   "execution_count": 20,
   "metadata": {},
   "outputs": [
    {
     "name": "stdout",
     "output_type": "stream",
     "text": [
      "1 2 3\n",
      "Hello Python\n"
     ]
    }
   ],
   "source": [
    "print(1,2,3)\n",
    "print('Hello', 'Python')"
   ]
  },
  {
   "cell_type": "code",
   "execution_count": null,
   "metadata": {},
   "outputs": [],
   "source": [
    "- print에 변수나 값을 콤마로 구분해서 넣으면 값이 공백으로 띄워져서 한 줄로 출력\n",
    "- 값을 여러 개 출력할 때 print 함수를 여러 번 쓰지 않아도 됨"
   ]
  },
  {
   "cell_type": "code",
   "execution_count": null,
   "metadata": {},
   "outputs": [],
   "source": [
    "# sep로 값 사이에 문자 넣기\n",
    "\n",
    "- 값 사이에 공백이 아닌 다른 문자를 넣고 싶을 때 print의 sep에 문자 또는 문자열을 지정해주면 됨\n",
    "  (sep는 구분자라는 뜻의 separator에서 따왔음)\n",
    "* print(값1, 값2, sep = '문자 또는 문자열')\n",
    "* print(변수1, 변수2, sep = '문자 또는 문자열')"
   ]
  },
  {
   "cell_type": "code",
   "execution_count": 21,
   "metadata": {},
   "outputs": [
    {
     "name": "stdout",
     "output_type": "stream",
     "text": [
      "1, 2, 3\n",
      "4,5,6\n",
      "HelloPython\n",
      "1920x1080\n"
     ]
    }
   ],
   "source": [
    "print(1,2,3, sep = ', ') # sep에 콤마와 공백을 지정\n",
    "\n",
    "print(4,5,6, sep = ',') # sep에 콤마만 지정\n",
    "\n",
    "print('Hello', 'Python', sep = '') # sep에 빈 문자열을 지정\n",
    "\n",
    "print(1920, 1080, sep = 'x') # sep에 x를 지정"
   ]
  },
  {
   "cell_type": "code",
   "execution_count": null,
   "metadata": {},
   "outputs": [],
   "source": [
    "- sep=', '처럼 콤마와 공백을 넣어주면 1, 2, 3과 같은 형태로 출력\n",
    "- 공백 없이 콤마만 지정해도 됨\n",
    "- sep=''처럼 빈 문자열을 지정하면 각각의 값은 서로 붙어서 출력\n",
    "- sep에는 'x'와 같은 일반적인 문자도 넣을 수 있음"
   ]
  },
  {
   "cell_type": "code",
   "execution_count": null,
   "metadata": {},
   "outputs": [],
   "source": [
    "# 줄바꿈 활용하기\n",
    "\n",
    "- 줄바꿈(개행)을 활용해보자\n",
    "- print에 값을 여러 개 지정하면 한 줄에 모든 값이 출력\n",
    "- print 한 번으로 값을 여러 줄에 출력할 수는 없을까?\n",
    "- print의 sep에 개행 문자(\\n)라는 특별한 문자를 지정하면 값을 한줄에 하나씩 출력할 수 있음"
   ]
  },
  {
   "cell_type": "code",
   "execution_count": 22,
   "metadata": {},
   "outputs": [
    {
     "name": "stdout",
     "output_type": "stream",
     "text": [
      "1 2 3\n",
      "1\n",
      "2\n",
      "3\n"
     ]
    }
   ],
   "source": [
    "print(1, 2, 3)\n",
    "print(1, 2, 3, sep='\\n')"
   ]
  },
  {
   "cell_type": "code",
   "execution_count": null,
   "metadata": {},
   "outputs": [],
   "source": [
    "# 줄바꿈 활용하기\n",
    "\n",
    "- \\n은 값을 다음 줄에 출력하게 만드는 제어 문자\n",
    "- sep에 \\n을 지정하면 1 2 3 사이에 \\n이 들어가므로 1을 출력한 뒤 다음줄에 2를 출력하고 다시 다음줄에 3을 출력하게 됨\n",
    "- 단, \\n 자체는 제어 문자이므로 화면에 출력되지 않음"
   ]
  },
  {
   "cell_type": "code",
   "execution_count": null,
   "metadata": {},
   "outputs": [],
   "source": [
    "- 참고로 \\n도 문자이므로 print에 바로 넣어서 사용할 수도 있음\n",
    "- print(1, 2, 3, sep = '\\n')와 결과가 같음\n",
    "- '1\\n2\\n3'과 같이 \\n은 옆에 다른 문자나 숫자와 붙여서 씀\n",
    "- \\n은 양 옆에 공백을 넣어버리면 공백이 그대로 출력되므로 주의해야 함"
   ]
  },
  {
   "cell_type": "code",
   "execution_count": null,
   "metadata": {},
   "outputs": [],
   "source": [
    "cf) 제어 문자\n",
    "- 제어 문자는 화면에 출력되지는 않지만 출력 결과를 제어한다고 해서 제어문자라 부름 \n",
    "- 제어 문자는 \\로 시작하는 이스케이프 시퀀스\n",
    "- \\n : 다음 줄로 이동하며 개행이라고도 부름\n",
    "- \\t : 탭 문자, 키보드의 Tab 키와 같으며 여러 칸을 띄움\n",
    "- \\\\ : \\ 문자 자체를 출력할 때는 \\를 두 번 써야함"
   ]
  },
  {
   "cell_type": "code",
   "execution_count": null,
   "metadata": {},
   "outputs": [],
   "source": [
    "# end 사용하기1\n",
    "\n",
    "- print는 기본적으로 출력하는 값 끝에 \\n을 붙임\n",
    "- print를 여러 번 사용하면 값이 여러 줄에 출력됨\n",
    "- IDLE의 소스 코드 편집 창에 입력한 뒤 실행"
   ]
  },
  {
   "cell_type": "code",
   "execution_count": 23,
   "metadata": {},
   "outputs": [
    {
     "name": "stdout",
     "output_type": "stream",
     "text": [
      "1\n",
      "2\n",
      "3\n"
     ]
    }
   ],
   "source": [
    "print(1)\n",
    "print(2)\n",
    "print(3)"
   ]
  },
  {
   "cell_type": "code",
   "execution_count": null,
   "metadata": {},
   "outputs": [],
   "source": [
    "# end 사용하기2\n",
    "\n",
    "- print를 여러 번 사용해서 print(1, 2, 3)처럼 한 줄에 여러 개의 값을 출력할 수는 없나?\n",
    "- print의 end에 빈 문자열을 지정해주면 됨\n",
    "\n",
    "* print(값, end = '문자 또는 문자열')\n",
    "* print(변수, end = '문자 또는 문자열')"
   ]
  },
  {
   "cell_type": "code",
   "execution_count": 24,
   "metadata": {},
   "outputs": [
    {
     "name": "stdout",
     "output_type": "stream",
     "text": [
      "123\n"
     ]
    }
   ],
   "source": [
    "print(1, end = \"\") # end에 빈 문자열을 지정하면 다음 번 출력이 바로 뒤에 오게 됨\n",
    "print(2, end = \"\")\n",
    "print(3)"
   ]
  },
  {
   "cell_type": "code",
   "execution_count": null,
   "metadata": {},
   "outputs": [],
   "source": [
    "# end 사용하기3\n",
    "\n",
    "- end = ''와 같이 end에 빈 문자열을 지정하면 1,2,3이 세 줄로 출력되지 않고 한 줄로 붙어서 출력됨\n",
    "- 기본적으로 print의 end에 \\n이 지정된 상태인데 빈 문자열을 지정하면 강제로 \\n을 지워주기 때문임\n",
    "- end는 현재 print가 끝난 뒤 그 다음에 오는 print 함수에 영향을 줌\n",
    "- 1 2 3 사이를 띄워주고 싶다면 end에 공백 한 칸을 지정하면 됨"
   ]
  },
  {
   "cell_type": "code",
   "execution_count": 29,
   "metadata": {},
   "outputs": [
    {
     "name": "stdout",
     "output_type": "stream",
     "text": [
      "1 2 3\n"
     ]
    }
   ],
   "source": [
    "print(1, end = ' ')  # end에 공백 한 칸 지정\n",
    "print(2, end = ' ')\n",
    "print(3)"
   ]
  },
  {
   "cell_type": "code",
   "execution_count": null,
   "metadata": {},
   "outputs": [],
   "source": [
    "- print의 sep, end에 제어문자, 공백문자 등을 조합하면 다양한 형태로 값을 출력할 수 있음\n",
    "- 자신의 상황에 맞게 선택해서 사용하면 됨"
   ]
  },
  {
   "cell_type": "code",
   "execution_count": null,
   "metadata": {},
   "outputs": [],
   "source": [
    "# 문자열 사용하기\n",
    "\n",
    "- 문자열에 대해 좀 더 자세히 알아보자\n",
    "- 먼저 간단하게 파이썬 프롬프트에서 문자열 'Hello, world!'를 출력해보자"
   ]
  },
  {
   "cell_type": "code",
   "execution_count": 30,
   "metadata": {},
   "outputs": [
    {
     "data": {
      "text/plain": [
       "'Hello, world!'"
      ]
     },
     "execution_count": 30,
     "metadata": {},
     "output_type": "execute_result"
    }
   ],
   "source": [
    "hello = \"Hello, world!\"\n",
    "hello"
   ]
  },
  {
   "cell_type": "code",
   "execution_count": null,
   "metadata": {},
   "outputs": [],
   "source": [
    "- Hello, world!를 ''(작은따옴표)로 묶어서 문자열로 만들었음\n",
    "- 문자열은 영문 문자열뿐만 아니라 한국 문자열도 사용할 수 있음"
   ]
  },
  {
   "cell_type": "code",
   "execution_count": 31,
   "metadata": {},
   "outputs": [
    {
     "data": {
      "text/plain": [
       "'안녕하세요'"
      ]
     },
     "execution_count": 31,
     "metadata": {},
     "output_type": "execute_result"
    }
   ],
   "source": [
    "hello = '안녕하세요'\n",
    "hello"
   ]
  },
  {
   "cell_type": "code",
   "execution_count": null,
   "metadata": {},
   "outputs": [],
   "source": [
    "# 문자열 사용하기\n",
    "\n",
    "- 파이썬에서는 작은따옴표로 묶는 방법 이외에도 문자열을 만드는 여러 가지 방법이 있음\n",
    "- \" \"(큰따옴표)로 묶는 방법 \n",
    "-'''(작은따옴표 3개)로 묶거나 \"\"\"(큰따옴표 3개)로 묶을 수도 있음"
   ]
  },
  {
   "cell_type": "code",
   "execution_count": 33,
   "metadata": {},
   "outputs": [
    {
     "data": {
      "text/plain": [
       "'Hello,world!'"
      ]
     },
     "execution_count": 33,
     "metadata": {},
     "output_type": "execute_result"
    }
   ],
   "source": [
    "hello = \"Hello,world!\"\n",
    "hello"
   ]
  },
  {
   "cell_type": "code",
   "execution_count": 37,
   "metadata": {},
   "outputs": [
    {
     "data": {
      "text/plain": [
       "'Hello, Python!'"
      ]
     },
     "execution_count": 37,
     "metadata": {},
     "output_type": "execute_result"
    }
   ],
   "source": [
    "hello =  '''Hello, Python!'''\n",
    "hello"
   ]
  },
  {
   "cell_type": "code",
   "execution_count": 38,
   "metadata": {},
   "outputs": [
    {
     "data": {
      "text/plain": [
       "'Python Programming'"
      ]
     },
     "execution_count": 38,
     "metadata": {},
     "output_type": "execute_result"
    }
   ],
   "source": [
    "python = \"\"\"Python Programming\"\"\"\n",
    "python"
   ]
  },
  {
   "cell_type": "code",
   "execution_count": null,
   "metadata": {},
   "outputs": [],
   "source": [
    "# 여러 줄로 된 문자열 사용하기1\n",
    "\n",
    "- 여러 줄로 된 문자열을 사용해보자\n",
    "- '''(작은따옴표 3개)로 시작하고 Hello, world!를 입력한 다음에 엔터 키를 누르면 다음 줄로 이동함.\n",
    "- 문자열을 계속 입력하고 마지막 줄에서 '''로 닫은 뒤 엔터키를 누르면 >>> 프롬프트로 돌아옴"
   ]
  },
  {
   "cell_type": "code",
   "execution_count": 39,
   "metadata": {},
   "outputs": [
    {
     "name": "stdout",
     "output_type": "stream",
     "text": [
      "Hello, world!\n",
      "안녕하세요.\n",
      "Python입니다.\n"
     ]
    }
   ],
   "source": [
    "hello = '''Hello, world!\n",
    "안녕하세요.\n",
    "Python입니다.'''\n",
    "print(hello)"
   ]
  },
  {
   "cell_type": "code",
   "execution_count": null,
   "metadata": {},
   "outputs": [],
   "source": [
    "# 여러 줄로 된 문자열 사용하기2\n",
    "\n",
    "- print함수로 hello의 내용을 출력해보면 입력한 문자열 3줄이 출력됨\n",
    "- 사실 파이썬 셀에서는 여러 줄로 된 문자열을 사용할 일이 많지 않음\n",
    "- 여러 줄로 된 문자열은 주로 .py 스크립트 파일에서 사용\n",
    "- 여러 줄로 된 문자열은 '''(작은따옴표 3개)로 시작하여 '''로 끝남\n",
    "- \"\"\"(큰따옴표 3개)로 시작하여 \"\"\"로 끝내도 됨\n",
    "- 문자열을 표현할 때 작은따옴표와 큰따옴표 중 한 가지로 통일하지 않고\n",
    "  여러 가지 방식을 사용하는지 알아보자"
   ]
  },
  {
   "cell_type": "code",
   "execution_count": null,
   "metadata": {},
   "outputs": [],
   "source": [
    "# 문자열 안에 작은따옴표나 큰따옴표 포함하기1\n",
    "\n",
    "- 문자열을 사용하다 보면 문자열 안에 작은따옴표나 큰따옴표를 넣어야 할 경우가 생김 \n",
    "- 작은따옴표와 큰따옴표를 사용하는 규칙이 달라짐 \n",
    "- 문자열 안에 '(작은따옴표)를 넣고 싶다면 문자열을 \"(큰따옴표)로 묶어줌\n",
    "- 문자열 안에 '를 그대로 사용할 수 있음"
   ]
  },
  {
   "cell_type": "code",
   "execution_count": 40,
   "metadata": {},
   "outputs": [
    {
     "data": {
      "text/plain": [
       "\"Python isn't difficult\""
      ]
     },
     "execution_count": 40,
     "metadata": {},
     "output_type": "execute_result"
    }
   ],
   "source": [
    "s = \"Python isn't difficult\"\n",
    "s"
   ]
  },
  {
   "cell_type": "code",
   "execution_count": null,
   "metadata": {},
   "outputs": [],
   "source": [
    "- 반대로 문자열 안에 \"(큰따옴표)를 넣고 싶다면 문자열을 '(작은따옴표)로 묶어주기"
   ]
  },
  {
   "cell_type": "code",
   "execution_count": 41,
   "metadata": {},
   "outputs": [
    {
     "data": {
      "text/plain": [
       "'He said \"Python is easy\"'"
      ]
     },
     "execution_count": 41,
     "metadata": {},
     "output_type": "execute_result"
    }
   ],
   "source": [
    "s = 'He said \"Python is easy\"'\n",
    "s"
   ]
  },
  {
   "cell_type": "code",
   "execution_count": null,
   "metadata": {},
   "outputs": [],
   "source": [
    "# 문자열 안에 작은따옴표나 큰따옴표 포함하기2\n",
    "\n",
    "- 작은따옴표 안에 작은따옴표를 넣거나 큰따옴표 안에 큰따옴표를 넣을 수는 없음"
   ]
  },
  {
   "cell_type": "code",
   "execution_count": 42,
   "metadata": {},
   "outputs": [
    {
     "ename": "SyntaxError",
     "evalue": "invalid syntax (<ipython-input-42-ee68b4c434be>, line 1)",
     "output_type": "error",
     "traceback": [
      "\u001b[1;36m  File \u001b[1;32m\"<ipython-input-42-ee68b4c434be>\"\u001b[1;36m, line \u001b[1;32m1\u001b[0m\n\u001b[1;33m    s = 'Python isn't difficult'\u001b[0m\n\u001b[1;37m                    ^\u001b[0m\n\u001b[1;31mSyntaxError\u001b[0m\u001b[1;31m:\u001b[0m invalid syntax\n"
     ]
    }
   ],
   "source": [
    "s = 'Python isn't difficult'"
   ]
  },
  {
   "cell_type": "code",
   "execution_count": 43,
   "metadata": {},
   "outputs": [
    {
     "ename": "SyntaxError",
     "evalue": "invalid syntax (<ipython-input-43-bcbed830d9be>, line 1)",
     "output_type": "error",
     "traceback": [
      "\u001b[1;36m  File \u001b[1;32m\"<ipython-input-43-bcbed830d9be>\"\u001b[1;36m, line \u001b[1;32m1\u001b[0m\n\u001b[1;33m    s = \"He said \"Python is easy\"\"\u001b[0m\n\u001b[1;37m                  ^\u001b[0m\n\u001b[1;31mSyntaxError\u001b[0m\u001b[1;31m:\u001b[0m invalid syntax\n"
     ]
    }
   ],
   "source": [
    "s = \"He said \"Python is easy\"\""
   ]
  },
  {
   "cell_type": "code",
   "execution_count": null,
   "metadata": {},
   "outputs": [],
   "source": [
    "- 실행을 해보면 구문 에러가 발생함\n",
    "- 여러 줄로 된 문자열은 작은따옴표 안에 작은따옴표와 큰따옴표를 둘 다 넣을 수 있음\n",
    "- 큰따옴표 안에도 작은따옴표와 큰따옴표를 넣을 수 있음"
   ]
  },
  {
   "cell_type": "code",
   "execution_count": null,
   "metadata": {},
   "outputs": [],
   "source": [
    "# 문자열 안에 작은따옴표나 큰따옴표 포함하기3"
   ]
  },
  {
   "cell_type": "code",
   "execution_count": 46,
   "metadata": {},
   "outputs": [
    {
     "name": "stdout",
     "output_type": "stream",
     "text": [
      "\"안녕하세요.\"\n",
      "'파이썬'입니다.\n",
      "\"Hello\"\n",
      "'Python'\n",
      "Hello, 'Python'\n"
     ]
    }
   ],
   "source": [
    "single_quote = '''\"안녕하세요.\"\n",
    "'파이썬'입니다.'''\n",
    "\n",
    "double_quote1 = \"\"\"\"Hello\"\n",
    "'Python'\"\"\"\n",
    "\n",
    "double_quote2 = \"\"\"Hello, 'Python'\"\"\" # 한줄로 작성\n",
    "\n",
    "print(single_quote)\n",
    "print(double_quote1)\n",
    "print(double_quote2)"
   ]
  },
  {
   "cell_type": "code",
   "execution_count": null,
   "metadata": {},
   "outputs": [],
   "source": [
    "- 문자열은 '(작은따옴표)로 묶어도 되고 \"(큰따옴표)로 묶어도 된다는 점과 여러 줄로 된 문자열은\n",
    "'''(작은따옴표3개) 또는 \"\"\"(큰따옴표3개)를 사용"
   ]
  },
  {
   "cell_type": "code",
   "execution_count": null,
   "metadata": {},
   "outputs": [],
   "source": [
    "cf) 문자열에 따옴표를 포함하는 다른방법\n",
    "\n",
    "- 작은따옴표 안에 작은따옴표를 넣을 수 있는 방법\n",
    "- 작은따옴표 앞에 \\(역슬러시)를 붙이면 됨"
   ]
  },
  {
   "cell_type": "code",
   "execution_count": 47,
   "metadata": {},
   "outputs": [
    {
     "data": {
      "text/plain": [
       "\"Python isn't difficult\""
      ]
     },
     "execution_count": 47,
     "metadata": {},
     "output_type": "execute_result"
    }
   ],
   "source": [
    "'Python isn\\'t difficult'"
   ]
  },
  {
   "cell_type": "code",
   "execution_count": null,
   "metadata": {},
   "outputs": [],
   "source": [
    "- 큰따옴표도 \"He said \\\"Python is easy\\\"\"처럼 큰따옴표 앞에 \\를 붙이면 됨\n",
    "- 문자열 안에 ',\" 등의 특수문자를 포함하기 위해 앞에 \\를 붙이는 방법을 이스케이프(escape)라고 부름"
   ]
  },
  {
   "cell_type": "code",
   "execution_count": null,
   "metadata": {},
   "outputs": [],
   "source": [
    "cf) 따옴표 세 개로 묶지 않고 여러 줄로 된 문자열 사용하기\n",
    "\n",
    "- 문자열 안에 개행 문자(\\n)을 넣으면 따옴표 세 개로 묶지 않아도 여러 줄로 된 문자열을 사용할 수 있음"
   ]
  },
  {
   "cell_type": "code",
   "execution_count": 48,
   "metadata": {},
   "outputs": [
    {
     "name": "stdout",
     "output_type": "stream",
     "text": [
      "Hello\n",
      "Python\n"
     ]
    }
   ],
   "source": [
    "print('Hello\\nPython')"
   ]
  },
  {
   "cell_type": "code",
   "execution_count": null,
   "metadata": {},
   "outputs": [],
   "source": [
    "- 따옴표 세 개로 묶어서 여러 줄로 된 문자열을 만들면 줄바꿈이 돠는 부분에 \\n이 들어있음\n",
    "- print 없이 출력해보면 \\n이 그대로 나옴"
   ]
  },
  {
   "cell_type": "code",
   "execution_count": 49,
   "metadata": {},
   "outputs": [
    {
     "data": {
      "text/plain": [
       "'Hello\\nPython'"
      ]
     },
     "execution_count": 49,
     "metadata": {},
     "output_type": "execute_result"
    }
   ],
   "source": [
    "'''Hello\n",
    "Python'''"
   ]
  },
  {
   "cell_type": "code",
   "execution_count": null,
   "metadata": {},
   "outputs": [],
   "source": [
    "cf) 파이썬 셀과 스크립트 파일의 결과가 다른데요?\n",
    "\n",
    "- 파이썬 셀의 >>>에서 문자열을 그대로 출력하면 작은따옴표도 함께 출력\n",
    "  (변수에 넣은 뒤 변수로 출력해도 마찬가지)"
   ]
  },
  {
   "cell_type": "code",
   "execution_count": 50,
   "metadata": {},
   "outputs": [
    {
     "data": {
      "text/plain": [
       "'Hello, world!'"
      ]
     },
     "execution_count": 50,
     "metadata": {},
     "output_type": "execute_result"
    }
   ],
   "source": [
    "'Hello, world!'"
   ]
  },
  {
   "cell_type": "code",
   "execution_count": null,
   "metadata": {},
   "outputs": [],
   "source": [
    "- 파이썬 셀에서는 문자열이나 변수를 그대로 입력하면 출력결과가 문자열이라는 것을 정확하게\n",
    "  표현하기 위해 작은따옴표로 묶인 문자열이 출력\n",
    "- 스크립트 파일에서는 문자열이나 변수만으로 출력을 할 수 없으므로 print를 사용"
   ]
  },
  {
   "cell_type": "code",
   "execution_count": 51,
   "metadata": {},
   "outputs": [
    {
     "name": "stdout",
     "output_type": "stream",
     "text": [
      "Hello, world!\n"
     ]
    }
   ],
   "source": [
    "print('Hello, world!')"
   ]
  }
 ],
 "metadata": {
  "kernelspec": {
   "display_name": "Python 3",
   "language": "python",
   "name": "python3"
  },
  "language_info": {
   "codemirror_mode": {
    "name": "ipython",
    "version": 3
   },
   "file_extension": ".py",
   "mimetype": "text/x-python",
   "name": "python",
   "nbconvert_exporter": "python",
   "pygments_lexer": "ipython3",
   "version": "3.8.5"
  }
 },
 "nbformat": 4,
 "nbformat_minor": 4
}
